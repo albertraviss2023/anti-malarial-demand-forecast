{
 "cells": [
  {
   "cell_type": "markdown",
   "id": "a3ba7b38-0d3f-4da0-b1a6-96d8d67a45e0",
   "metadata": {},
   "source": [
    "## Append/Load District and National Monthly Data to final destination"
   ]
  },
  {
   "cell_type": "code",
   "execution_count": null,
   "id": "0c2e3031-13d7-4744-b0cf-21141a49c335",
   "metadata": {},
   "outputs": [],
   "source": [
    "import os\n",
    "import pandas as pd\n",
    "\n",
    "# These should come from your transform notebooks or passed via Papermill\n",
    "# Assuming both already exist as Pandas DataFrames\n",
    "# - `national_df` (columns: year, month, avg_temp_max, ...)\n",
    "# - `agg_df` (columns: district, year, month, avg_temp_max, ...)\n",
    "\n",
    "# -------------------------------------\n",
    "# 1. National-Level Aggregated Data\n",
    "# -------------------------------------\n",
    "national_path = \"weather_national_monthly.csv\"\n",
    "\n",
    "if os.path.exists(national_path):\n",
    "    national_existing = pd.read_csv(national_path)\n",
    "    national_combined = pd.concat([national_existing, national_df], ignore_index=True)\n",
    "    national_combined = national_combined.drop_duplicates(subset=[\"year\", \"month\"], keep=\"last\")\n",
    "else:\n",
    "    national_combined = national_df\n",
    "\n",
    "national_combined = national_combined.sort_values(by=[\"year\", \"month\"]).reset_index(drop=True)\n",
    "national_combined.to_csv(national_path, index=False)\n",
    "print(\"✅ Load complete for  national monthly weather data.\")"
   ]
  },
  {
   "cell_type": "code",
   "execution_count": null,
   "id": "866b8885-8a73-4b68-a656-e519d54ebc89",
   "metadata": {},
   "outputs": [],
   "source": [
    "# -------------------------------------\n",
    "# 2. District-Level Aggregated Data\n",
    "# -------------------------------------\n",
    "district_path = \"weather_district_monthly.csv\"\n",
    "\n",
    "if os.path.exists(district_path):\n",
    "    district_existing = pd.read_csv(district_path)\n",
    "    district_combined = pd.concat([district_existing, agg_df], ignore_index=True)\n",
    "    district_combined = district_combined.drop_duplicates(subset=[\"district\", \"year\", \"month\"], keep=\"last\")\n",
    "else:\n",
    "    district_combined = agg_df\n",
    "\n",
    "district_combined = district_combined.sort_values(by=[\"district\", \"year\", \"month\"]).reset_index(drop=True)\n",
    "district_combined.to_csv(district_path, index=False)\n",
    "print(\"✅ Load complete for district-level monthly weather data.\")\n"
   ]
  }
 ],
 "metadata": {
  "kernelspec": {
   "display_name": "Python 3 (ipykernel)",
   "language": "python",
   "name": "python3"
  },
  "language_info": {
   "codemirror_mode": {
    "name": "ipython",
    "version": 3
   },
   "file_extension": ".py",
   "mimetype": "text/x-python",
   "name": "python",
   "nbconvert_exporter": "python",
   "pygments_lexer": "ipython3",
   "version": "3.8.10"
  }
 },
 "nbformat": 4,
 "nbformat_minor": 5
}
