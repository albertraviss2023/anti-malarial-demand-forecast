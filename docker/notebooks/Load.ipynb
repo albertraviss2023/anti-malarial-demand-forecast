{
 "cells": [
  {
   "cell_type": "markdown",
   "id": "a3ba7b38-0d3f-4da0-b1a6-96d8d67a45e0",
   "metadata": {},
   "source": [
    "## Append/Load District and National Monthly Data to final destination"
   ]
  },
  {
   "cell_type": "code",
   "execution_count": null,
   "id": "0c2e3031-13d7-4744-b0cf-21141a49c335",
   "metadata": {},
   "outputs": [],
   "source": [
    "import os\n",
    "import pandas as pd\n",
    "\n",
    "# These should come from your transform notebooks or passed via Papermill\n",
    "# Assuming both already exist as Pandas DataFrames\n",
    "# - `national_df` (columns: year, month, avg_temp_max, ...)\n",
    "# - `agg_df` (columns: district, year, month, avg_temp_max, ...)\n",
    "\n",
    "# -------------------------------------\n",
    "# 1. National-Level Aggregated Data\n",
    "# -------------------------------------\n",
    "national_df = \"weather_national_monthly.csv\"\n",
    "national_path = \"weather_national_monthly.csv\"\n",
    "\n",
    "if os.path.exists(national_path):\n",
    "    national_existing = pd.read_csv(national_path)\n",
    "    national_combined = pd.concat([national_existing, national_df], ignore_index=True)\n",
    "    national_combined = national_combined.drop_duplicates(subset=[\"year\", \"month\"], keep=\"last\")\n",
    "else:\n",
    "    national_combined = national_df\n",
    "\n",
    "national_combined = national_combined.sort_values(by=[\"year\", \"month\"]).reset_index(drop=True)\n",
    "national_combined.to_csv(national_path, index=False)\n",
    "print(\"✅ Load complete for  national monthly weather data.\")"
   ]
  },
  {
   "cell_type": "code",
   "execution_count": 4,
   "id": "866b8885-8a73-4b68-a656-e519d54ebc89",
   "metadata": {},
   "outputs": [
    {
     "name": "stdout",
     "output_type": "stream",
     "text": [
      "✅ District-level data appended and saved successfully.\n"
     ]
    }
   ],
   "source": [
    "import os\n",
    "import pandas as pd\n",
    "\n",
    "# File paths\n",
    "historical_path = \"malaria_historical.csv\"\n",
    "new_data_path = \"weather_district_monthly_2025_05.csv\"\n",
    "\n",
    "# Load new monthly climate data\n",
    "new_df = pd.read_csv(new_data_path)\n",
    "\n",
    "# Add mal_cases column as empty (for future prediction)\n",
    "new_df[\"mal_cases\"] = pd.NA\n",
    "\n",
    "# Reorder columns for consistency\n",
    "new_df = new_df[[\n",
    "    \"year\", \"month\", \"district\", \"mal_cases\",\n",
    "    \"avg_temp_max\", \"avg_temp_min\", \"avg_humidity\",\n",
    "    \"total_precipitation\", \"total_sunshine_hours\"\n",
    "]]\n",
    "\n",
    "# If historical file exists, load and align column names\n",
    "if os.path.exists(historical_path):\n",
    "    historical_df = pd.read_csv(historical_path)\n",
    "\n",
    "    # If the historical data has old column names, rename them to match the new schema\n",
    "    historical_df = historical_df.rename(columns={\n",
    "        \"sum_precipitation\": \"total_precipitation\",\n",
    "        \"sum_sunshine_hours\": \"total_sunshine_hours\"\n",
    "    })\n",
    "\n",
    "    # Ensure mal_cases column exists in historical data\n",
    "    if \"mal_cases\" not in historical_df.columns:\n",
    "        historical_df[\"mal_cases\"] = pd.NA\n",
    "\n",
    "    # Reorder columns to match new_df\n",
    "    historical_df = historical_df[new_df.columns]\n",
    "\n",
    "    # Concatenate and drop duplicates\n",
    "    combined_df = pd.concat([historical_df, new_df], ignore_index=True)\n",
    "    combined_df = combined_df.drop_duplicates(subset=[\"district\", \"year\", \"month\"], keep=\"last\")\n",
    "else:\n",
    "    # No historical data yet\n",
    "    combined_df = new_df\n",
    "\n",
    "# Sort and write back\n",
    "combined_df = combined_df.sort_values(by=[\"district\", \"year\", \"month\"]).reset_index(drop=True)\n",
    "combined_df.to_csv(historical_path, index=False)\n",
    "\n",
    "print(\"✅ District-level data appended and saved successfully.\")\n"
   ]
  },
  {
   "cell_type": "code",
   "execution_count": null,
   "id": "ce549011-5ea9-4930-867d-d4df78282de7",
   "metadata": {},
   "outputs": [],
   "source": []
  }
 ],
 "metadata": {
  "kernelspec": {
   "display_name": "Python 3 (ipykernel)",
   "language": "python",
   "name": "python3"
  },
  "language_info": {
   "codemirror_mode": {
    "name": "ipython",
    "version": 3
   },
   "file_extension": ".py",
   "mimetype": "text/x-python",
   "name": "python",
   "nbconvert_exporter": "python",
   "pygments_lexer": "ipython3",
   "version": "3.8.10"
  }
 },
 "nbformat": 4,
 "nbformat_minor": 5
}
