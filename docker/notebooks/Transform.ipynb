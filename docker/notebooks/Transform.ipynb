{
 "cells": [
  {
   "cell_type": "code",
   "execution_count": 6,
   "id": "f3a811b4-d0b5-4ea4-b4be-ba5583bb98b7",
   "metadata": {},
   "outputs": [],
   "source": [
    "import subprocess\n",
    "import sys\n",
    "\n",
    "try:\n",
    "    import dask\n",
    "except ImportError:\n",
    "    subprocess.check_call([sys.executable, \"-m\", \"pip\", \"install\", \"dask[complete]\"])"
   ]
  },
  {
   "cell_type": "code",
   "execution_count": null,
   "id": "d25a86ed",
   "metadata": {},
   "outputs": [],
   "source": [
    "# Parameters injected by Papermill or default fallback\n",
    "try:\n",
    "    parameters\n",
    "except NameError:\n",
    "    parameters = {\"cwd\": \".\", \"airflow\": True}  # Add \"airflow\": True default to avoid preview\n"
   ]
  },
  {
   "cell_type": "code",
   "execution_count": null,
   "id": "d4418521-d301-4b61-8940-03b7b7c4e41d",
   "metadata": {},
   "outputs": [],
   "source": [
    "import dask.dataframe as dd\n",
    "import os\n",
    "import logging\n",
    "from datetime import datetime, timedelta\n",
    "\n",
    "logging.basicConfig(level=logging.INFO)\n",
    "logger = logging.getLogger(__name__)\n",
    "\n",
    "logger.info(f\"📥 Working directory set to: {cwd}\")\n"
   ]
  },
  {
   "cell_type": "code",
   "execution_count": null,
   "id": "794335cc-c0ec-4b26-ae18-abde32ce7c89",
   "metadata": {},
   "outputs": [],
   "source": [
    "try:\n",
    "    month_str\n",
    "except NameError:\n",
    "    today = datetime.today()\n",
    "    first_of_this_month = datetime(today.year, today.month, 1)\n",
    "    last_of_prev_month = first_of_this_month - timedelta(days=1)\n",
    "    first_of_prev_month = datetime(last_of_prev_month.year, last_of_prev_month.month, 1)\n",
    "    month_str = first_of_prev_month.strftime(\"%Y_%m\")\n",
    "    logger.info(f\"📅 Using month_str: {month_str}\")\n"
   ]
  },
  {
   "cell_type": "code",
   "execution_count": 12,
   "id": "acd7ae61-a0a1-47e7-b0a9-dd04ae27c953",
   "metadata": {},
   "outputs": [
    {
     "data": {
      "text/html": [
       "<div>\n",
       "<style scoped>\n",
       "    .dataframe tbody tr th:only-of-type {\n",
       "        vertical-align: middle;\n",
       "    }\n",
       "\n",
       "    .dataframe tbody tr th {\n",
       "        vertical-align: top;\n",
       "    }\n",
       "\n",
       "    .dataframe thead th {\n",
       "        text-align: right;\n",
       "    }\n",
       "</style>\n",
       "<table border=\"1\" class=\"dataframe\">\n",
       "  <thead>\n",
       "    <tr style=\"text-align: right;\">\n",
       "      <th></th>\n",
       "      <th>district</th>\n",
       "      <th>date</th>\n",
       "      <th>temp_max</th>\n",
       "      <th>temp_min</th>\n",
       "      <th>precipitation</th>\n",
       "      <th>humidity</th>\n",
       "      <th>sunshine</th>\n",
       "      <th>month</th>\n",
       "    </tr>\n",
       "  </thead>\n",
       "  <tbody>\n",
       "    <tr>\n",
       "      <th>0</th>\n",
       "      <td>Abim</td>\n",
       "      <td>2025-06-01</td>\n",
       "      <td>28.1</td>\n",
       "      <td>16.7</td>\n",
       "      <td>0.1</td>\n",
       "      <td>67</td>\n",
       "      <td>40393.03</td>\n",
       "      <td>2025_06</td>\n",
       "    </tr>\n",
       "    <tr>\n",
       "      <th>1</th>\n",
       "      <td>Abim</td>\n",
       "      <td>2025-06-02</td>\n",
       "      <td>30.4</td>\n",
       "      <td>17.5</td>\n",
       "      <td>0.0</td>\n",
       "      <td>55</td>\n",
       "      <td>40393.94</td>\n",
       "      <td>2025_06</td>\n",
       "    </tr>\n",
       "    <tr>\n",
       "      <th>2</th>\n",
       "      <td>Abim</td>\n",
       "      <td>2025-06-03</td>\n",
       "      <td>29.4</td>\n",
       "      <td>18.1</td>\n",
       "      <td>5.9</td>\n",
       "      <td>67</td>\n",
       "      <td>38380.78</td>\n",
       "      <td>2025_06</td>\n",
       "    </tr>\n",
       "    <tr>\n",
       "      <th>3</th>\n",
       "      <td>Abim</td>\n",
       "      <td>2025-06-04</td>\n",
       "      <td>28.5</td>\n",
       "      <td>17.2</td>\n",
       "      <td>1.0</td>\n",
       "      <td>72</td>\n",
       "      <td>40509.11</td>\n",
       "      <td>2025_06</td>\n",
       "    </tr>\n",
       "    <tr>\n",
       "      <th>4</th>\n",
       "      <td>Abim</td>\n",
       "      <td>2025-06-05</td>\n",
       "      <td>27.4</td>\n",
       "      <td>17.5</td>\n",
       "      <td>14.0</td>\n",
       "      <td>76</td>\n",
       "      <td>33168.99</td>\n",
       "      <td>2025_06</td>\n",
       "    </tr>\n",
       "  </tbody>\n",
       "</table>\n",
       "</div>"
      ],
      "text/plain": [
       "  district       date  temp_max  temp_min  precipitation  humidity  sunshine  \\\n",
       "0     Abim 2025-06-01      28.1      16.7            0.1        67  40393.03   \n",
       "1     Abim 2025-06-02      30.4      17.5            0.0        55  40393.94   \n",
       "2     Abim 2025-06-03      29.4      18.1            5.9        67  38380.78   \n",
       "3     Abim 2025-06-04      28.5      17.2            1.0        72  40509.11   \n",
       "4     Abim 2025-06-05      27.4      17.5           14.0        76  33168.99   \n",
       "\n",
       "     month  \n",
       "0  2025_06  \n",
       "1  2025_06  \n",
       "2  2025_06  \n",
       "3  2025_06  \n",
       "4  2025_06  "
      ]
     },
     "execution_count": 12,
     "metadata": {},
     "output_type": "execute_result"
    }
   ],
   "source": [
    "file_path = os.path.join(cwd, f\"raw_weather_data_{month_str}.csv\")\n",
    "\n",
    "if not os.path.exists(file_path):\n",
    "    logger.error(f\"❌ Input file not found: {file_path}\")\n",
    "    raise FileNotFoundError(f\"Input file not found: {file_path}\")\n",
    "\n",
    "try:\n",
    "    daily_df = dd.read_csv(file_path, parse_dates=[\"date\"])\n",
    "    logger.info(f\"✅ Successfully loaded daily data from: {file_path}\")\n",
    "except Exception as e:\n",
    "    logger.error(f\"❌ Failed to load daily data CSV: {str(e)}\")\n",
    "    raise\n"
   ]
  },
  {
   "cell_type": "code",
   "execution_count": null,
   "id": "b6e3dc59-84a6-40a2-86e6-bf073b784b2a",
   "metadata": {},
   "outputs": [],
   "source": [
    "daily_df[\"year\"] = daily_df[\"date\"].dt.year\n",
    "daily_df[\"month\"] = daily_df[\"date\"].dt.month"
   ]
  },
  {
   "cell_type": "markdown",
   "id": "10152872-ea72-4cca-b31f-caeb640fbb86",
   "metadata": {},
   "source": [
    "## District"
   ]
  },
  {
   "cell_type": "code",
   "execution_count": 14,
   "id": "352dc74d-2ab6-4610-aea7-c99e6bb5546a",
   "metadata": {},
   "outputs": [
    {
     "name": "stdout",
     "output_type": "stream",
     "text": [
      "district                 object\n",
      "date             datetime64[ns]\n",
      "temp_max                float64\n",
      "temp_min                float64\n",
      "precipitation           float64\n",
      "humidity                  int64\n",
      "sunshine                float64\n",
      "month                    object\n",
      "dtype: object\n"
     ]
    }
   ],
   "source": [
    "try:\n",
    "    district_df = daily_df.groupby([\"district\", \"year\", \"month\"]).agg({\n",
    "        \"temp_max\": \"mean\",\n",
    "        \"temp_min\": \"mean\",\n",
    "        \"humidity\": \"mean\",\n",
    "        \"precipitation\": \"sum\",\n",
    "        \"sunshine\": \"sum\"\n",
    "    }).rename(columns={\n",
    "        \"temp_max\": \"avg_temp_max\",\n",
    "        \"temp_min\": \"avg_temp_min\",\n",
    "        \"humidity\": \"avg_humidity\",\n",
    "        \"precipitation\": \"total_precipitation\",\n",
    "        \"sunshine\": \"total_sunshine_seconds\"\n",
    "    })\n",
    "\n",
    "    district_df = district_df.assign(\n",
    "        total_sunshine_hours=(district_df[\"total_sunshine_seconds\"] / 3600).round(2)\n",
    "    ).drop(columns=\"total_sunshine_seconds\")\n",
    "\n",
    "    district_df = district_df.map_partitions(lambda df: df.round(2))\n",
    "    district_df = district_df.reset_index().compute()\n",
    "\n",
    "    logger.info(\"✅ District-level aggregation complete\")\n",
    "except Exception as e:\n",
    "    logger.error(f\"❌ District aggregation error: {str(e)}\")\n",
    "    raise\n"
   ]
  },
  {
   "cell_type": "markdown",
   "id": "258efe92-45ba-4ee7-a5c1-0f07acd44c34",
   "metadata": {},
   "source": [
    "## National"
   ]
  },
  {
   "cell_type": "code",
   "execution_count": null,
   "id": "759a96fe-563c-4f6f-9288-bfb8461d35e4",
   "metadata": {},
   "outputs": [],
   "source": [
    "try:\n",
    "    national_df = daily_df.groupby([\"year\", \"month\"]).agg({\n",
    "        \"temp_max\": \"mean\",\n",
    "        \"temp_min\": \"mean\",\n",
    "        \"humidity\": \"mean\",\n",
    "        \"precipitation\": \"sum\",\n",
    "        \"sunshine\": \"sum\"\n",
    "    }).rename(columns={\n",
    "        \"temp_max\": \"avg_temp_max\",\n",
    "        \"temp_min\": \"avg_temp_min\",\n",
    "        \"humidity\": \"avg_humidity\",\n",
    "        \"precipitation\": \"total_precipitation\",\n",
    "        \"sunshine\": \"total_sunshine_seconds\"\n",
    "    })\n",
    "\n",
    "    national_df = national_df.assign(\n",
    "        total_sunshine_hours=(national_df[\"total_sunshine_seconds\"] / 3600).round(2)\n",
    "    ).drop(columns=\"total_sunshine_seconds\")\n",
    "\n",
    "    national_df = national_df.map_partitions(lambda df: df.round(2))\n",
    "    national_df = national_df.reset_index().compute()\n",
    "\n",
    "    logger.info(\"✅ National-level aggregation complete\")\n",
    "except Exception as e:\n",
    "    logger.error(f\"❌ National aggregation error: {str(e)}\")\n",
    "    raise\n"
   ]
  },
  {
   "cell_type": "markdown",
   "id": "9b20614d-52fc-44ad-93e1-4531593ec75e",
   "metadata": {},
   "source": [
    "## Save Outputs"
   ]
  },
  {
   "cell_type": "code",
   "execution_count": 21,
   "id": "6ea53e32-d42e-4d4a-a55e-0d9565c714e6",
   "metadata": {},
   "outputs": [],
   "source": [
    "district_path = os.path.join(cwd, f\"weather_district_monthly_{month_str}.csv\")\n",
    "national_path = os.path.join(cwd, f\"weather_national_monthly_{month_str}.csv\")\n",
    "\n",
    "try:\n",
    "    district_df.to_csv(district_path, index=False)\n",
    "    logger.info(f\"✅ Saved district-level data: {district_path}\")\n",
    "except Exception as e:\n",
    "    logger.error(f\"❌ Failed to save district CSV: {str(e)}\")\n",
    "    raise\n",
    "\n",
    "try:\n",
    "    national_df.to_csv(national_path, index=False)\n",
    "    logger.info(f\"✅ Saved national-level data: {national_path}\")\n",
    "except Exception as e:\n",
    "    logger.error(f\"❌ Failed to save national CSV: {str(e)}\")\n",
    "    raise\n"
   ]
  },
  {
   "cell_type": "code",
   "execution_count": null,
   "id": "528bc6fc-34fe-46f9-8de7-fb292369c678",
   "metadata": {},
   "outputs": [],
   "source": [
    "if not parameters.get(\"airflow\", False):\n",
    "    print(\"📊 District-level preview:\")\n",
    "    print(district_df.head())\n",
    "\n",
    "    print(\"\\n🌍 National-level preview:\")\n",
    "    print(national_df.head())\n"
   ]
  }
 ],
 "metadata": {
  "kernelspec": {
   "display_name": "Python 3 (ipykernel)",
   "language": "python",
   "name": "python3"
  },
  "language_info": {
   "codemirror_mode": {
    "name": "ipython",
    "version": 3
   },
   "file_extension": ".py",
   "mimetype": "text/x-python",
   "name": "python",
   "nbconvert_exporter": "python",
   "pygments_lexer": "ipython3",
   "version": "3.9.19"
  }
 },
 "nbformat": 4,
 "nbformat_minor": 5
}
